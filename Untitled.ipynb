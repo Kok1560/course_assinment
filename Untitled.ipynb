{
 "cells": [
  {
   "cell_type": "code",
   "execution_count": 2,
   "id": "ca1cc7a8",
   "metadata": {},
   "outputs": [
    {
     "name": "stdout",
     "output_type": "stream",
     "text": [
      "cost function , J(0.6729480357014438,0.20347876005488108) = 309.31124120393616\n",
      "********************************************************************************\n",
      "Original ceta0 is 0.6729480357014438\n",
      "Original ceta1 is 0.20347876005488108\n",
      "****************************************\n",
      "Gradiant descent iterations:\n",
      "iteration 1\n",
      "ceta0 = 0.7143638732694372\n",
      "ceta1 = 0.5104084671379394\n",
      "iteration 2\n",
      "ceta0 = 0.7557797108374306\n",
      "ceta1 = 0.8173381742209977\n",
      "iteration 3\n",
      "ceta0 = 0.797195548405424\n",
      "ceta1 = 1.124267881304056\n",
      "iteration 4\n",
      "ceta0 = 0.8386113859734173\n",
      "ceta1 = 1.4311975883871144\n",
      "iteration 5\n",
      "ceta0 = 0.8800272235414107\n",
      "ceta1 = 1.7381272954701728\n"
     ]
    }
   ],
   "source": [
    "import random\n",
    "\n",
    "def gd(x, y, c0=random.random(), c1=random.random(), lr=0.002):\n",
    "    rows = 0\n",
    "    for i in x:\n",
    "        rows += 1\n",
    "        \n",
    "    i = 0\n",
    "    half_cost_fun = []\n",
    "    half_cost_fun_without_power = []\n",
    "    half_cost_fun_times_x = []\n",
    "    for n in x:\n",
    "        predict_value = c0 + c1 * x[i]\n",
    "        \n",
    "        part_of_cost_f = (predict_value - y[i])**2\n",
    "        half_cost_fun.append(part_of_cost_f)\n",
    "        \n",
    "        part_of_cost_f_without_power = (predict_value - y[i])\n",
    "        half_cost_fun_without_power.append(part_of_cost_f_without_power)\n",
    "        \n",
    "        part_of_cost_f_times_x = (predict_value - y[i])*x[i]\n",
    "        half_cost_fun_times_x.append(part_of_cost_f_times_x)\n",
    "        \n",
    "        i += 1\n",
    "\n",
    "        \n",
    "    cost_fun = 1 / (2 * rows) * sum(half_cost_fun)\n",
    "    print(f\"cost function , J({c0},{c1}) = {cost_fun}\")\n",
    "    \n",
    "    print(\"*\" * 80)\n",
    "\n",
    "    print(f\"Original ceta0 is {c0}\")\n",
    "    print(f\"Original ceta1 is {c1}\")\n",
    "    \n",
    "    print(\"*\" * 40)\n",
    "\n",
    "    max = 1\n",
    "    print(f\"Gradiant descent iterations:\")\n",
    "    while 6 > max:\n",
    "        c0 = c0 - lr * 1 / rows * sum(half_cost_fun_without_power)\n",
    "        c1 = c1 - lr * 1 / rows * sum(half_cost_fun_times_x)\n",
    "        print(f\"iteration {max}\")\n",
    "        print(f\"ceta0 = {c0}\")\n",
    "        print(f\"ceta1 = {c1}\")\n",
    "        max += 1\n",
    "\n",
    "    \n",
    "gd(x = [1,2,3,4,5,6,7,8,9,10], y = [0,5,10,15,20,25,30,35,40,45])"
   ]
  },
  {
   "cell_type": "code",
   "execution_count": null,
   "id": "676205cc",
   "metadata": {},
   "outputs": [],
   "source": []
  }
 ],
 "metadata": {
  "kernelspec": {
   "display_name": "Python 3 (ipykernel)",
   "language": "python",
   "name": "python3"
  },
  "language_info": {
   "codemirror_mode": {
    "name": "ipython",
    "version": 3
   },
   "file_extension": ".py",
   "mimetype": "text/x-python",
   "name": "python",
   "nbconvert_exporter": "python",
   "pygments_lexer": "ipython3",
   "version": "3.10.9"
  }
 },
 "nbformat": 4,
 "nbformat_minor": 5
}
